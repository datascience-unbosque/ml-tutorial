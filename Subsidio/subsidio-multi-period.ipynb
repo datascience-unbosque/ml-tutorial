{
 "cells": [
  {
   "cell_type": "code",
   "execution_count": null,
   "metadata": {},
   "outputs": [],
   "source": [
    "import numpy as np\n",
    "import pandas as pd\n",
    "\n",
    "from sklearn.cluster import KMeans\n",
    "from sklearn.metrics import silhouette_samples, silhouette_score\n",
    "\n",
    "import matplotlib.pyplot as plt\n",
    "import matplotlib.cm as cm\n",
    "%matplotlib inline"
   ]
  },
  {
   "cell_type": "code",
   "execution_count": null,
   "metadata": {},
   "outputs": [],
   "source": [
    "pd.options.display.max_columns = 100\n",
    "pd.options.display.max_rows = 1000"
   ]
  },
  {
   "cell_type": "markdown",
   "metadata": {},
   "source": [
    "# Carga del dataset"
   ]
  },
  {
   "cell_type": "markdown",
   "metadata": {},
   "source": [
    "Fuente: https://www.datos.gov.co/Organismos-de-Control/Poblaci-n-Sistema-Subsidio-Familiar-Marzo-2018/gn7q-qsmp"
   ]
  },
  {
   "cell_type": "code",
   "execution_count": null,
   "metadata": {},
   "outputs": [],
   "source": [
    "subsidio_mar_2018_df = pd.read_csv( './data/subsidio_familiar_mar_2018.csv' )\n",
    "subsidio_feb_2018_df = pd.read_csv( './data/subsidio_familiar_mar_2018.csv' )\n",
    "subsidio_ene_2018_df = pd.read_csv( './data/subsidio_familiar_mar_2018.csv' )\n",
    "subsidio_dic_2017_df = pd.read_csv( './data/subsidio_familiar_dic_2017.csv' )\n",
    "subsidio_nov_2017_df = pd.read_csv( './data/subsidio_familiar_nov_2017.csv' )\n",
    "subsidio_oct_2017_df = pd.read_csv( './data/subsidio_familiar_oct_2017.csv' )\n",
    "subsidio_sep_2017_df = pd.read_csv( './data/subsidio_familiar_sep_2017.csv' )\n",
    "subsidio_ago_2017_df = pd.read_csv( './data/subsidio_familiar_ago_2017.csv' )\n",
    "subsidio_jul_2017_df = pd.read_csv( './data/subsidio_familiar_jul_2017.csv' )\n",
    "subsidio_jun_2017_df = pd.read_csv( './data/subsidio_familiar_jun_2017.csv' )\n",
    "subsidio_may_2017_df = pd.read_csv( './data/subsidio_familiar_may_2017.csv' )\n",
    "subsidio_abr_2017_df = pd.read_csv( './data/subsidio_familiar_abr_2017.csv' )\n",
    "subsidio_mar_2017_df = pd.read_csv( './data/subsidio_familiar_mar_2017.csv' )\n",
    "subsidio_feb_2017_df = pd.read_csv( './data/subsidio_familiar_feb_2017.csv' )\n",
    "subsidio_ene_2017_df = pd.read_csv( './data/subsidio_familiar_ene_2017.csv' )"
   ]
  },
  {
   "cell_type": "code",
   "execution_count": null,
   "metadata": {},
   "outputs": [],
   "source": [
    "print( subsidio_mar_2018_df.shape )\n",
    "print( subsidio_feb_2018_df.shape )\n",
    "print( subsidio_ene_2018_df.shape )\n",
    "print( subsidio_dic_2017_df.shape )\n",
    "print( subsidio_nov_2017_df.shape )\n",
    "print( subsidio_oct_2017_df.shape )\n",
    "print( subsidio_sep_2017_df.shape )\n",
    "print( subsidio_ago_2017_df.shape )\n",
    "print( subsidio_jul_2017_df.shape )\n",
    "print( subsidio_jun_2017_df.shape )\n",
    "print( subsidio_may_2017_df.shape )\n",
    "print( subsidio_abr_2017_df.shape )\n",
    "print( subsidio_mar_2017_df.shape )\n",
    "print( subsidio_feb_2017_df.shape )\n",
    "print( subsidio_ene_2017_df.shape )"
   ]
  },
  {
   "cell_type": "code",
   "execution_count": null,
   "metadata": {},
   "outputs": [],
   "source": [
    "subsidio_mar_2018_df[ 'Periodo' ] = 201803\n",
    "subsidio_feb_2018_df[ 'Periodo' ] = 201802\n",
    "subsidio_ene_2018_df[ 'Periodo' ] = 201801\n",
    "subsidio_dic_2017_df[ 'Periodo' ] = 201712\n",
    "subsidio_nov_2017_df[ 'Periodo' ] = 201711\n",
    "subsidio_oct_2017_df[ 'Periodo' ] = 201710\n",
    "subsidio_sep_2017_df[ 'Periodo' ] = 201709\n",
    "subsidio_ago_2017_df[ 'Periodo' ] = 201708\n",
    "subsidio_jul_2017_df[ 'Periodo' ] = 201707\n",
    "subsidio_jun_2017_df[ 'Periodo' ] = 201706\n",
    "subsidio_may_2017_df[ 'Periodo' ] = 201705\n",
    "subsidio_abr_2017_df[ 'Periodo' ] = 201704\n",
    "subsidio_mar_2017_df[ 'Periodo' ] = 201703\n",
    "subsidio_feb_2017_df[ 'Periodo' ] = 201702\n",
    "subsidio_ene_2017_df[ 'Periodo' ] = 201701"
   ]
  },
  {
   "cell_type": "code",
   "execution_count": null,
   "metadata": {},
   "outputs": [],
   "source": [
    "subsidio_df = pd.concat( [ subsidio_mar_2018_df, subsidio_feb_2018_df, subsidio_ene_2018_df, subsidio_dic_2017_df, subsidio_nov_2017_df, subsidio_oct_2017_df, subsidio_sep_2017_df, subsidio_ago_2017_df, subsidio_jul_2017_df, subsidio_jun_2017_df, subsidio_may_2017_df, subsidio_abr_2017_df, subsidio_mar_2017_df, subsidio_feb_2017_df, subsidio_ene_2017_df ] )"
   ]
  },
  {
   "cell_type": "code",
   "execution_count": null,
   "metadata": {},
   "outputs": [],
   "source": [
    "subsidio_df.shape"
   ]
  },
  {
   "cell_type": "code",
   "execution_count": null,
   "metadata": {},
   "outputs": [],
   "source": [
    "subsidio_df.dtypes"
   ]
  },
  {
   "cell_type": "code",
   "execution_count": null,
   "metadata": {},
   "outputs": [],
   "source": [
    "subsidio_df.head()"
   ]
  },
  {
   "cell_type": "markdown",
   "metadata": {},
   "source": [
    "# Extracción de características"
   ]
  },
  {
   "cell_type": "code",
   "execution_count": null,
   "metadata": {},
   "outputs": [],
   "source": [
    "X = subsidio_df[ subsidio_df.columns.tolist()[ 2:-1 ] ]"
   ]
  },
  {
   "cell_type": "code",
   "execution_count": null,
   "metadata": {},
   "outputs": [],
   "source": [
    "X.head()"
   ]
  },
  {
   "cell_type": "markdown",
   "metadata": {},
   "source": [
    "# Construcción del modelo de clustering"
   ]
  },
  {
   "cell_type": "code",
   "execution_count": null,
   "metadata": {},
   "outputs": [],
   "source": [
    "# Número de clusters\n",
    "n_clusters = 5"
   ]
  },
  {
   "cell_type": "code",
   "execution_count": null,
   "metadata": {},
   "outputs": [],
   "source": [
    "# Se crea el modelo de clustering\n",
    "model = KMeans( n_clusters = n_clusters )"
   ]
  },
  {
   "cell_type": "code",
   "execution_count": null,
   "metadata": {},
   "outputs": [],
   "source": [
    "# Ajuste del modelo a los datos\n",
    "clusters = model.fit_predict( X )"
   ]
  },
  {
   "cell_type": "code",
   "execution_count": null,
   "metadata": {},
   "outputs": [],
   "source": [
    "# Crea una nueva columna en el dataframe con el cluster asignado a cada dato\n",
    "subsidio_df[ 'cluster' ] = clusters"
   ]
  },
  {
   "cell_type": "code",
   "execution_count": null,
   "metadata": {},
   "outputs": [],
   "source": [
    "subsidio_df.head()"
   ]
  },
  {
   "cell_type": "markdown",
   "metadata": {},
   "source": [
    "# Evaluación del modelo"
   ]
  },
  {
   "cell_type": "code",
   "execution_count": null,
   "metadata": {},
   "outputs": [],
   "source": [
    "subsidio_df[ 'cluster' ].value_counts()"
   ]
  },
  {
   "cell_type": "code",
   "execution_count": null,
   "metadata": {},
   "outputs": [],
   "source": [
    "# Calcula el valor de silueta promedio de todos los clusters\n",
    "silhouette_avg = silhouette_score( X, clusters )\n",
    "silhouette_avg"
   ]
  },
  {
   "cell_type": "code",
   "execution_count": null,
   "metadata": {},
   "outputs": [],
   "source": [
    "fig, ( ax1 ) = plt.subplots( 1, 1 )\n",
    "fig.set_size_inches( 12, 8 )\n",
    "\n",
    "ax1.set_xlim( [ -0.1, 1 ] )\n",
    "ax1.set_ylim( [ 0, len( X ) + ( n_clusters + 1 ) * 20 ] )\n",
    "\n",
    "# Calcula el valor de silueta para cada dato\n",
    "sample_silhouette_values = silhouette_samples( X, clusters )\n",
    "\n",
    "y_lower = 20\n",
    "for i in range( n_clusters ):\n",
    "    ith_cluster_silhouette_values = sample_silhouette_values[ clusters == i ]\n",
    "\n",
    "    ith_cluster_silhouette_values.sort()\n",
    "\n",
    "    size_cluster_i = ith_cluster_silhouette_values.shape[ 0 ]\n",
    "    y_upper = y_lower + size_cluster_i\n",
    "\n",
    "    color = cm.get_cmap(\"Spectral\")( float( i ) / n_clusters )\n",
    "    ax1.fill_betweenx( np.arange( y_lower, y_upper ), 0, ith_cluster_silhouette_values, facecolor = color, edgecolor = color, alpha = 0.7 )\n",
    "\n",
    "    ax1.text( -0.05, y_lower + 0.5 * size_cluster_i, str( i ) )\n",
    "\n",
    "    y_lower = y_upper + 20\n",
    "\n",
    "ax1.set_title( 'The silhouette plot for the various clusters' )\n",
    "ax1.set_xlabel( 'The silhouette coefficient values' )\n",
    "ax1.set_ylabel( 'Cluster label' )\n",
    "\n",
    "ax1.axvline( x = silhouette_avg, color = 'red', linestyle = '--' )\n",
    "\n",
    "ax1.set_yticks( [] )\n",
    "ax1.set_xticks( [ -0.1, 0, 0.2, 0.4, 0.6, 0.8, 1 ] )\n",
    "\n",
    "plt.show()"
   ]
  },
  {
   "cell_type": "markdown",
   "metadata": {},
   "source": [
    "# Explicación de los clusters"
   ]
  },
  {
   "cell_type": "code",
   "execution_count": null,
   "metadata": {},
   "outputs": [],
   "source": [
    "subsidio_df.loc[ subsidio_df[ 'Código' ] == 22 ]"
   ]
  },
  {
   "cell_type": "code",
   "execution_count": null,
   "metadata": {},
   "outputs": [],
   "source": []
  }
 ],
 "metadata": {
  "kernelspec": {
   "display_name": "Python 3",
   "language": "python",
   "name": "python3"
  },
  "language_info": {
   "codemirror_mode": {
    "name": "ipython",
    "version": 3
   },
   "file_extension": ".py",
   "mimetype": "text/x-python",
   "name": "python",
   "nbconvert_exporter": "python",
   "pygments_lexer": "ipython3",
   "version": "3.7.6"
  }
 },
 "nbformat": 4,
 "nbformat_minor": 4
}
