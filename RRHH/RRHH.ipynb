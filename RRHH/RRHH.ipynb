{
 "cells": [
  {
   "cell_type": "code",
   "execution_count": null,
   "metadata": {},
   "outputs": [],
   "source": [
    "import pandas as pd\n",
    "\n",
    "from sklearn.tree import DecisionTreeClassifier, plot_tree\n",
    "from sklearn.model_selection import train_test_split\n",
    "from sklearn.metrics import ConfusionMatrixDisplay\n",
    "\n",
    "import matplotlib.pyplot as plt\n",
    "%matplotlib inline"
   ]
  },
  {
   "cell_type": "markdown",
   "metadata": {},
   "source": [
    "### Reading the dataset"
   ]
  },
  {
   "cell_type": "code",
   "execution_count": null,
   "metadata": {},
   "outputs": [],
   "source": [
    "rrhh_df = pd.read_csv('./data/rrhh.csv', sep = ',')"
   ]
  },
  {
   "cell_type": "code",
   "execution_count": null,
   "metadata": {},
   "outputs": [],
   "source": [
    "rrhh_df.rename(columns = { 'sales' : 'department'}, inplace = True)"
   ]
  },
  {
   "cell_type": "code",
   "execution_count": null,
   "metadata": {},
   "outputs": [],
   "source": [
    "rrhh_df.shape"
   ]
  },
  {
   "cell_type": "code",
   "execution_count": null,
   "metadata": {},
   "outputs": [],
   "source": [
    "rrhh_df.dtypes"
   ]
  },
  {
   "cell_type": "code",
   "execution_count": null,
   "metadata": {},
   "outputs": [],
   "source": [
    "rrhh_df.head()"
   ]
  },
  {
   "cell_type": "markdown",
   "metadata": {},
   "source": [
    "### Splitting train and test datasets"
   ]
  },
  {
   "cell_type": "code",
   "execution_count": null,
   "metadata": {},
   "outputs": [],
   "source": [
    "X = rrhh_df[['satisfaction_level', 'last_evaluation', 'number_project', 'average_montly_hours', 'time_spend_company', 'Work_accident', 'left', 'promotion_last_5years']]"
   ]
  },
  {
   "cell_type": "code",
   "execution_count": null,
   "metadata": {},
   "outputs": [],
   "source": [
    "Y = rrhh_df['salary']"
   ]
  },
  {
   "cell_type": "code",
   "execution_count": null,
   "metadata": {},
   "outputs": [],
   "source": [
    "X_train, X_test, Y_train, Y_test = train_test_split(X, Y, test_size = 0.3, stratify = Y)"
   ]
  },
  {
   "cell_type": "code",
   "execution_count": null,
   "metadata": {},
   "outputs": [],
   "source": [
    "pd.Series(Y_train).value_counts(normalize = True)"
   ]
  },
  {
   "cell_type": "code",
   "execution_count": null,
   "metadata": {},
   "outputs": [],
   "source": [
    "pd.Series(Y_test).value_counts(normalize = True)"
   ]
  },
  {
   "cell_type": "markdown",
   "metadata": {},
   "source": [
    "### Training the model"
   ]
  },
  {
   "cell_type": "code",
   "execution_count": null,
   "metadata": {},
   "outputs": [],
   "source": [
    "model = DecisionTreeClassifier(max_depth = 5)"
   ]
  },
  {
   "cell_type": "code",
   "execution_count": null,
   "metadata": {},
   "outputs": [],
   "source": [
    "model.fit(X_train, Y_train)"
   ]
  },
  {
   "cell_type": "code",
   "execution_count": null,
   "metadata": {},
   "outputs": [],
   "source": [
    "plt.figure(figsize = (30, 20))\n",
    "plot_tree(model)\n",
    "plt.show()"
   ]
  },
  {
   "cell_type": "markdown",
   "metadata": {},
   "source": [
    "### Evaluating the model"
   ]
  },
  {
   "cell_type": "code",
   "execution_count": null,
   "metadata": {},
   "outputs": [],
   "source": [
    "predictions = model.predict(X_test)"
   ]
  },
  {
   "cell_type": "code",
   "execution_count": null,
   "metadata": {},
   "outputs": [],
   "source": [
    "ConfusionMatrixDisplay.from_predictions(Y_test, predictions)"
   ]
  },
  {
   "cell_type": "markdown",
   "metadata": {},
   "source": [
    "### Showing class distributions among classes"
   ]
  },
  {
   "cell_type": "code",
   "execution_count": null,
   "metadata": {},
   "outputs": [],
   "source": [
    "fig, axes = plt.subplots(nrows = 4, ncols = 2, figsize = (15, 15))\n",
    "ax0, ax1, ax2, ax3, ax4, ax5, ax6, ax7 = axes.flatten()\n",
    "\n",
    "ax0.hist(rrhh_df.loc[ rrhh_df[ 'salary' ] == 'low', 'satisfaction_level' ], label = 'Low', alpha = 0.5)\n",
    "ax0.hist(rrhh_df.loc[ rrhh_df[ 'salary' ] == 'medium', 'satisfaction_level' ], label = 'Medium', alpha = 0.5)\n",
    "ax0.hist(rrhh_df.loc[ rrhh_df[ 'salary' ] == 'high', 'satisfaction_level' ], label = 'High', alpha = 0.5)\n",
    "ax0.set_title('Satisfaction Level')\n",
    "ax0.legend()\n",
    "\n",
    "ax1.hist(rrhh_df.loc[ rrhh_df[ 'salary' ] == 'low', 'last_evaluation' ], label = 'Low', alpha = 0.5)\n",
    "ax1.hist(rrhh_df.loc[ rrhh_df[ 'salary' ] == 'medium', 'last_evaluation' ], label = 'Medium', alpha = 0.5)\n",
    "ax1.hist(rrhh_df.loc[ rrhh_df[ 'salary' ] == 'high', 'last_evaluation' ], label = 'High', alpha = 0.5)\n",
    "ax1.set_title('Last Evaluation')\n",
    "\n",
    "ax2.hist(rrhh_df.loc[ rrhh_df[ 'salary' ] == 'low', 'number_project' ], label = 'Low', alpha = 0.5)\n",
    "ax2.hist(rrhh_df.loc[ rrhh_df[ 'salary' ] == 'medium', 'number_project' ], label = 'Medium', alpha = 0.5)\n",
    "ax2.hist(rrhh_df.loc[ rrhh_df[ 'salary' ] == 'high', 'number_project' ], label = 'High', alpha = 0.5)\n",
    "ax2.set_title('Number of Projects')\n",
    "\n",
    "ax3.hist(rrhh_df.loc[ rrhh_df[ 'salary' ] == 'low', 'average_montly_hours' ], label = 'Low', alpha = 0.5)\n",
    "ax3.hist(rrhh_df.loc[ rrhh_df[ 'salary' ] == 'medium', 'average_montly_hours' ], label = 'Medium', alpha = 0.5)\n",
    "ax3.hist(rrhh_df.loc[ rrhh_df[ 'salary' ] == 'high', 'average_montly_hours' ], label = 'High', alpha = 0.5)\n",
    "ax3.set_title('Average Monthly Hours')\n",
    "\n",
    "ax4.hist(rrhh_df.loc[ rrhh_df[ 'salary' ] == 'low', 'time_spend_company' ], label = 'Low', alpha = 0.5)\n",
    "ax4.hist(rrhh_df.loc[ rrhh_df[ 'salary' ] == 'medium', 'time_spend_company' ], label = 'Medium', alpha = 0.5)\n",
    "ax4.hist(rrhh_df.loc[ rrhh_df[ 'salary' ] == 'high', 'time_spend_company' ], label = 'High', alpha = 0.5)\n",
    "ax4.set_title('Time Spend in Company')\n",
    "\n",
    "ax5.hist(rrhh_df.loc[ rrhh_df[ 'salary' ] == 'low', 'Work_accident' ], label = 'Low', alpha = 0.5)\n",
    "ax5.hist(rrhh_df.loc[ rrhh_df[ 'salary' ] == 'medium', 'Work_accident' ], label = 'Medium', alpha = 0.5)\n",
    "ax5.hist(rrhh_df.loc[ rrhh_df[ 'salary' ] == 'high', 'Work_accident' ], label = 'High', alpha = 0.5)\n",
    "ax5.set_title('Work Accident')\n",
    "\n",
    "ax6.hist(rrhh_df.loc[ rrhh_df[ 'salary' ] == 'low', 'left' ], label = 'Low', alpha = 0.5)\n",
    "ax6.hist(rrhh_df.loc[ rrhh_df[ 'salary' ] == 'medium', 'left' ], label = 'Medium', alpha = 0.5)\n",
    "ax6.hist(rrhh_df.loc[ rrhh_df[ 'salary' ] == 'high', 'left' ], label = 'High', alpha = 0.5)\n",
    "ax6.set_title('Left')\n",
    "\n",
    "ax7.hist(rrhh_df.loc[ rrhh_df[ 'salary' ] == 'low', 'promotion_last_5years' ], label = 'Low', alpha = 0.5)\n",
    "ax7.hist(rrhh_df.loc[ rrhh_df[ 'salary' ] == 'medium', 'promotion_last_5years' ], label = 'Medium', alpha = 0.5)\n",
    "ax7.hist(rrhh_df.loc[ rrhh_df[ 'salary' ] == 'high', 'promotion_last_5years' ], label = 'High', alpha = 0.5)\n",
    "ax7.set_title('Promotion Last 5 Years')\n",
    "\n",
    "plt.show()"
   ]
  },
  {
   "cell_type": "code",
   "execution_count": null,
   "metadata": {},
   "outputs": [],
   "source": []
  }
 ],
 "metadata": {
  "kernelspec": {
   "display_name": "Python 3",
   "language": "python",
   "name": "python3"
  },
  "language_info": {
   "codemirror_mode": {
    "name": "ipython",
    "version": 3
   },
   "file_extension": ".py",
   "mimetype": "text/x-python",
   "name": "python",
   "nbconvert_exporter": "python",
   "pygments_lexer": "ipython3",
   "version": "3.7.6"
  }
 },
 "nbformat": 4,
 "nbformat_minor": 4
}
